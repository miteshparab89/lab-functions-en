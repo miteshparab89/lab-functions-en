{
 "cells": [
  {
   "cell_type": "markdown",
   "metadata": {},
   "source": [
    "# Functions"
   ]
  },
  {
   "cell_type": "markdown",
   "metadata": {},
   "source": [
    "On this lab we will put to practice some of the concepts we have learned on this past few days.\n",
    "\n",
    "`NOTE: On this lab you should try to write all the functions yourself using only the most basic of python syntax and without functions such as len, count, sum, max, min, in, etc. Give it a try. 🧑🏻‍💻👩🏻‍💻`\n",
    "\n",
    "The cell after each exercise contains a few tests to check if your function works as expected."
   ]
  },
  {
   "cell_type": "code",
   "execution_count": 6,
   "metadata": {},
   "outputs": [],
   "source": [
    "from mod.testing import *\n",
    "import unittest\n"
   ]
  },
  {
   "cell_type": "markdown",
   "metadata": {},
   "source": [
    "## 1. Write a function that returns the greater of two numbers"
   ]
  },
  {
   "cell_type": "code",
   "execution_count": null,
   "metadata": {},
   "outputs": [],
   "source": [
    "def greater(a, b):\n",
    "    test_greater(greater)\n",
    "#your code here "
   ]
  },
  {
   "cell_type": "code",
   "execution_count": 25,
   "metadata": {},
   "outputs": [],
   "source": [
    "def find_greater(a: 5, b: 10) -> int:\n",
    "    if a > b:\n",
    "        return a\n",
    "    else:\n",
    "        return b\n",
    "    print(find_greater(5, 10))"
   ]
  },
  {
   "cell_type": "code",
   "execution_count": null,
   "metadata": {},
   "outputs": [],
   "source": [
    "#your code here"
   ]
  },
  {
   "cell_type": "markdown",
   "metadata": {},
   "source": [
    "## 2. Now write a function that returns the largest element on a list"
   ]
  },
  {
   "cell_type": "code",
   "execution_count": null,
   "metadata": {},
   "outputs": [],
   "source": []
  },
  {
   "cell_type": "code",
   "execution_count": 32,
   "metadata": {},
   "outputs": [
    {
     "name": "stdout",
     "output_type": "stream",
     "text": [
      "10\n"
     ]
    }
   ],
   "source": [
    "x = [3, 10, 5, 7, 4]\n",
    "\n",
    "def find_largest(numbers: list) -> int:\n",
    "    if numbers == []:\n",
    "        return None\n",
    "\n",
    "    \n",
    "    largest = numbers[0]\n",
    "\n",
    "    \n",
    "    for num in numbers:\n",
    "        if num > largest:\n",
    "            largest = num\n",
    "\n",
    "    return largest\n",
    "print( find_largest(x))\n"
   ]
  },
  {
   "cell_type": "markdown",
   "metadata": {},
   "source": [
    "## 3. Write a function that sums all the elements on a list"
   ]
  },
  {
   "cell_type": "code",
   "execution_count": 35,
   "metadata": {},
   "outputs": [],
   "source": [
    "def sum_all(lst):[5,2,3,4]\n"
   ]
  },
  {
   "cell_type": "code",
   "execution_count": null,
   "metadata": {
    "scrolled": true
   },
   "outputs": [
    {
     "name": "stdout",
     "output_type": "stream",
     "text": [
      "14\n"
     ]
    }
   ],
   "source": [
    "def sum_all_while(lst):\n",
    "    total = 0\n",
    "    i = 0\n",
    "    while i < len(lst):  \n",
    "        total = total + lst[i]\n",
    "        i = i + 1\n",
    "    return total\n",
    "\n",
    "# Test\n",
    "print(sum_all_while([5, 2, 3, 4]))\n",
    "\n",
    "\n",
    "\n",
    "\n"
   ]
  },
  {
   "cell_type": "markdown",
   "metadata": {},
   "source": [
    "## 4. Write another function that multiplies all the elements on a list"
   ]
  },
  {
   "cell_type": "code",
   "execution_count": 55,
   "metadata": {},
   "outputs": [],
   "source": [
    "def mult_all(lst):[5,2,3,4]\n"
   ]
  },
  {
   "cell_type": "code",
   "execution_count": 64,
   "metadata": {
    "scrolled": true
   },
   "outputs": [
    {
     "name": "stdout",
     "output_type": "stream",
     "text": [
      "120\n"
     ]
    }
   ],
   "source": [
    "\n",
    "def multiply_all_while(lst):\n",
    "    product = 1\n",
    "    i = 0\n",
    "    while i < len(lst):\n",
    "        product = product * lst[i]\n",
    "        i += 1\n",
    "    return product\n",
    "\n",
    "print(multiply_all_while([5,2,3,4]))\n"
   ]
  },
  {
   "cell_type": "markdown",
   "metadata": {},
   "source": [
    "## 5. Now combine those two ideas and write a function that receives a list and either \"+\" or \"*\" and outputs acordingly"
   ]
  },
  {
   "cell_type": "code",
   "execution_count": 107,
   "metadata": {},
   "outputs": [
    {
     "name": "stdout",
     "output_type": "stream",
     "text": [
      "120\n"
     ]
    }
   ],
   "source": [
    "def oper_all(arr, oper = \"*\"):[5, 2, 3, 4]\n",
    "def oper_all(arr, oper=\"*\"):\n",
    "    \"\"\"\n",
    "    Receives a list of numbers and an operator ('+' or '*').\n",
    "    Returns the result of applying the operation on all elements.\n",
    "    \"\"\"\n",
    "    \n",
    "    if arr == []:\n",
    "        # Return 0 for sum, 1 for multiplication if list is empty\n",
    "        return 0 if oper == \"+\" else 1\n",
    "    \n",
    "    if oper == \"+\":\n",
    "        result = 0\n",
    "        for num in arr:\n",
    "            result += num\n",
    "        return result\n",
    "    elif oper == \"*\":\n",
    "        result = 1\n",
    "        for num in arr:\n",
    "            result *= num\n",
    "        return result\n",
    "    else:\n",
    "        return None  # Invalid operator\n",
    "\n",
    "\n",
    "# 🧪 Example tests\n",
    "print(oper_all([5, 2, 3, 4]))\n",
    "\n"
   ]
  },
  {
   "cell_type": "code",
   "execution_count": null,
   "metadata": {},
   "outputs": [],
   "source": [
    "\n",
    "test_operations(oper_all)\n"
   ]
  },
  {
   "cell_type": "markdown",
   "metadata": {},
   "source": [
    "## 6. Write a function that returns the factorial of a number."
   ]
  },
  {
   "cell_type": "code",
   "execution_count": 69,
   "metadata": {},
   "outputs": [],
   "source": [
    "def factorial(n):5\n"
   ]
  },
  {
   "cell_type": "code",
   "execution_count": null,
   "metadata": {},
   "outputs": [],
   "source": [
    "#factorial formula\n",
    "#n! = n * ( n - 1 ) *...*1\n",
    "\n",
    "# This code defines a function called \"factorial\" which takes an input \"n\". The function uses a for loop to iterate through the range of numbers \n",
    "# from 1 to n+1. For each number in that range, it multiplies the current value of x by the number in the range. At the end of the loop, \n",
    "# the function returns the final value of x, which will be the factorial of the input number \"n\".\n",
    "\n",
    "# The Factorial of a positive integer n is the product of all positive integers less than or equal to n. \n",
    "# For example, the factorial of 6 (written \"6!\") is 6 * 5 * 4 * 3 * 2 * 1 = 720.\n",
    "\n",
    "# So this function takes an input of any positive integer, and returns the factorial of that number."
   ]
  },
  {
   "cell_type": "code",
   "execution_count": 85,
   "metadata": {},
   "outputs": [
    {
     "name": "stdout",
     "output_type": "stream",
     "text": [
      "120\n"
     ]
    }
   ],
   "source": [
    " \n",
    "def factorial(n):\n",
    "    if n < 0:\n",
    "        return None  \n",
    "\n",
    "    result = 1\n",
    "    for i in range(1, n + 1):\n",
    "        result = result * i  \n",
    "\n",
    "    return result  \n",
    "\n",
    "\n",
    "\n",
    "print(factorial(5))  \n",
    "\n",
    "\n"
   ]
  },
  {
   "cell_type": "markdown",
   "metadata": {},
   "source": [
    "## 7. Write a function that takes a list and returns a list of the unique values.\n",
    "\n",
    "`NOTE: You cannot use set. 🤔`"
   ]
  },
  {
   "cell_type": "code",
   "execution_count": 86,
   "metadata": {},
   "outputs": [],
   "source": [
    "def unique(lst_un):[10, 20, 30, 20, 10 , 40, 50 , 30]\n"
   ]
  },
  {
   "cell_type": "code",
   "execution_count": 89,
   "metadata": {},
   "outputs": [
    {
     "name": "stdout",
     "output_type": "stream",
     "text": [
      "[10, 20, 30, 40, 50]\n"
     ]
    }
   ],
   "source": [
    "\n",
    "def unique(lst_un):\n",
    "    \n",
    "    unique_lst = []  \n",
    "    \n",
    "    for item in lst_un:\n",
    "        if item not in unique_lst:  \n",
    "            unique_lst.append(item)\n",
    "    \n",
    "    return unique_lst\n",
    "\n",
    "numbers = [10, 20, 30, 20, 10, 40, 50, 30]\n",
    "print(unique(numbers))  \n"
   ]
  },
  {
   "cell_type": "markdown",
   "metadata": {},
   "source": [
    "## 8. Write a function that returns the mode of a list, i.e.: the element that appears the most times.\n",
    "`NOTE: You should not use count... 🧐`"
   ]
  },
  {
   "cell_type": "code",
   "execution_count": 95,
   "metadata": {},
   "outputs": [
    {
     "name": "stdout",
     "output_type": "stream",
     "text": [
      "1\n"
     ]
    }
   ],
   "source": [
    "def mode_counter(arr):\n",
    "    \"\"\"Return the mode (most frequent element) of a list.\"\"\"\n",
    "    if arr == []:\n",
    "        return None  # empty list has no mode\n",
    "    \n",
    "    frequency = []  # list to store [element, count]\n",
    "    \n",
    "    # Count occurrences manually\n",
    "    for item in arr:\n",
    "        found = False\n",
    "        for pair in frequency:\n",
    "            if pair[0] == item:\n",
    "                pair[1] += 1  # increment count\n",
    "                found = True\n",
    "                break\n",
    "        if not found:\n",
    "            frequency.append([item, 1])  # add new element with count 1\n",
    "    \n",
    "    # Find the element with the highest count\n",
    "    max_count = 0\n",
    "    mode_value = None\n",
    "    for pair in frequency:\n",
    "        if pair[1] > max_count:\n",
    "            max_count = pair[1]\n",
    "            mode_value = pair[0]\n",
    "    \n",
    "    return mode_value\n",
    "\n",
    "\n",
    "# Example usage\n",
    "numbers = [1, 2, 3, 4, 2, 2, 1, 1, 4, 5, 1]\n",
    "print(mode_counter(numbers))  # Output: 1\n",
    "\n"
   ]
  },
  {
   "cell_type": "code",
   "execution_count": null,
   "metadata": {},
   "outputs": [],
   "source": []
  },
  {
   "cell_type": "markdown",
   "metadata": {},
   "source": [
    "## 9. Write a function that calculates the standard deviation of a list.\n",
    "`NOTE: Do not use any libraries or already built functions. 😉`"
   ]
  },
  {
   "cell_type": "code",
   "execution_count": null,
   "metadata": {},
   "outputs": [],
   "source": [
    "def st_dev(list_sd):\n"
   ]
  },
  {
   "cell_type": "code",
   "execution_count": 98,
   "metadata": {},
   "outputs": [
    {
     "name": "stdout",
     "output_type": "stream",
     "text": [
      "\n"
     ]
    }
   ],
   "source": [
    "\n",
    "def st_dev(list_sd):\n",
    "    n = 0\n",
    "    for _ in list_sd:\n",
    "        n = n + 1\n",
    "    total = 0\n",
    "    for x in list_sd:\n",
    "        total = total + x\n",
    "    mean = total / n\n",
    "    variance_sum = 0\n",
    "    for x in list_sd:\n",
    "        diff = x - mean\n",
    "        variance_sum = variance_sum + diff * diff\n",
    "    if n > 1:\n",
    "        variance = variance_sum / (n - 1)\n",
    "    else:\n",
    "        variance = 0    \n",
    "    std_dev = variance ** 0.5\n",
    "    return std_dev   \n",
    "print()"
   ]
  },
  {
   "cell_type": "markdown",
   "metadata": {},
   "source": [
    "## 10. Write a function to check if a string is a pangram, i.e.: if it contains all the letters of the alphabet at least once. Mind that the strings may contain characters that are not letters."
   ]
  },
  {
   "cell_type": "code",
   "execution_count": null,
   "metadata": {},
   "outputs": [
    {
     "name": "stdout",
     "output_type": "stream",
     "text": [
      "True\n",
      "False\n",
      "True\n"
     ]
    }
   ],
   "source": [
    "def pangram(string):\n",
    "    def pangram(string):\n",
    "        \"\"\"Return True if string is a pangram, False otherwise.\"\"\"\n",
    "    \n",
    "    alphabet = \"abcdefghijklmnopqrstuvwxyz\"\n",
    "    string = string.lower()  \n",
    "    \n",
    "    for letter in alphabet:\n",
    "        if letter not in string:\n",
    "            return False \n",
    "    \n",
    "    return True \n",
    "\n",
    "\n",
    "# 🧪 Example tests\n",
    "print(pangram(\"The quick brown fox jumps over the lazy dog\"))  # True\n",
    "print(pangram(\"Hello World\"))                                  # False\n",
    "print(pangram(\"Pack my box with five dozen liquor jugs.\"))     # True\n",
    "\n"
   ]
  },
  {
   "cell_type": "code",
   "execution_count": null,
   "metadata": {},
   "outputs": [],
   "source": [
    "# This will test your function \n",
    "test_pangram(pangram)"
   ]
  },
  {
   "cell_type": "markdown",
   "metadata": {},
   "source": [
    "## 11. Write a function that receives a string of comma separated words and returns a string of comma separated words sorted alphabetically.\n",
    "\n",
    "`NOTE: You may use sorted but not split and definitely no join! 🤪`"
   ]
  },
  {
   "cell_type": "code",
   "execution_count": 106,
   "metadata": {},
   "outputs": [
    {
     "name": "stdout",
     "output_type": "stream",
     "text": [
      "apple,banana,cherry\n",
      "ant,bird,cat,dog\n",
      "ant,elephant,Lion,Zebra\n",
      "\n"
     ]
    }
   ],
   "source": [
    "\n",
    "def sort_alpha(string):\n",
    "    \"\"\"Return comma-separated words sorted alphabetically (bubble sort).\"\"\"\n",
    "    \n",
    "    if string == \"\":\n",
    "        return \"\"\n",
    "    \n",
    "    # Split and strip spaces\n",
    "    words = [word.strip() for word in string.split(\",\")]\n",
    "    \n",
    "    # Bubble sort\n",
    "    n = len(words)\n",
    "    for i in range(n):\n",
    "        for j in range(0, n-i-1):\n",
    "            if words[j].lower() > words[j+1].lower():\n",
    "                words[j], words[j+1] = words[j+1], words[j]\n",
    "    \n",
    "    return \",\".join(words)\n",
    "\n",
    "\n",
    "# 🧪 Example tests\n",
    "print(sort_alpha(\"banana, apple, cherry\"))      \n",
    "print(sort_alpha(\"dog,cat,ant,bird\"))          \n",
    "print(sort_alpha(\"Zebra, elephant, Lion, ant\"))\n",
    "print(sort_alpha(\"\"))                            \n"
   ]
  },
  {
   "cell_type": "code",
   "execution_count": null,
   "metadata": {},
   "outputs": [],
   "source": []
  },
  {
   "cell_type": "markdown",
   "metadata": {},
   "source": [
    "## 12. Write a function to check if a given password is strong (at least 8 characters, at least one lower case, at least one upper case, at least one number and at least one special character). It should output True if strong and False if not."
   ]
  },
  {
   "cell_type": "code",
   "execution_count": null,
   "metadata": {},
   "outputs": [
    {
     "name": "stdout",
     "output_type": "stream",
     "text": [
      "True\n",
      "False\n"
     ]
    }
   ],
   "source": [
    "def check_pass(password):\n",
    "    \"\"\"Return True if password is strong, False otherwise.\"\"\"\n",
    "    \n",
    "    if len(password) < 8:\n",
    "        return False  # too short\n",
    "    \n",
    "    has_lower = False\n",
    "    has_upper = False\n",
    "    has_digit = False\n",
    "    has_special = False\n",
    "    \n",
    "    special_chars = \"!@#$%^&*()-_+=<>?/.,\"\n",
    "    \n",
    "    for char in password:\n",
    "        if char.islower():\n",
    "            has_lower = True\n",
    "        elif char.isupper():\n",
    "            has_upper = True\n",
    "        elif char.isdigit():\n",
    "            has_digit = True\n",
    "        elif char in special_chars:\n",
    "            has_special = True\n",
    "    \n",
    "    return has_lower and has_upper and has_digit and has_special\n",
    "\n",
    "\n",
    "# Test the function\n",
    "print(check_pass(\"Abc123!@\"))  \n",
    "print(check_pass(\"abc123\"))    \n",
    "\n"
   ]
  },
  {
   "cell_type": "code",
   "execution_count": null,
   "metadata": {},
   "outputs": [],
   "source": []
  }
 ],
 "metadata": {
  "kernelspec": {
   "display_name": "base",
   "language": "python",
   "name": "python3"
  },
  "language_info": {
   "codemirror_mode": {
    "name": "ipython",
    "version": 3
   },
   "file_extension": ".py",
   "mimetype": "text/x-python",
   "name": "python",
   "nbconvert_exporter": "python",
   "pygments_lexer": "ipython3",
   "version": "3.13.5"
  }
 },
 "nbformat": 4,
 "nbformat_minor": 4
}
